{
 "cells": [
  {
   "cell_type": "code",
   "execution_count": 1,
   "metadata": {},
   "outputs": [],
   "source": [
    "import pandas as pd\n",
    "import konlpy\n",
    "from konlpy.tag import Kkma"
   ]
  },
  {
   "cell_type": "markdown",
   "metadata": {},
   "source": [
    "# 딕셔너리 만들기"
   ]
  },
  {
   "cell_type": "markdown",
   "metadata": {},
   "source": [
    "{'title':'content', 'title':'content'...}"
   ]
  },
  {
   "cell_type": "code",
   "execution_count": 2,
   "metadata": {},
   "outputs": [],
   "source": [
    "def make_dict(path):\n",
    "    \"input .csv path. Return (title, content) dictionary.\"\n",
    "    df = pd.read_csv(path) # pandas를 이용해 path 안의 .csv 파일을 읽는다.\n",
    "    titles = df['title'].values.tolist() # dataframe을 이용해 csv 파일의 title만 리스트로 변환한다.\n",
    "    \n",
    "    dict = {}\n",
    "\n",
    "    for i in range(len(titles)):\n",
    "        dict[df.loc[i]['title']] = df.loc[i]['content'] # dataframe의 인덱스를 이용해서 title:content dict를 만든다.\n",
    "    return dict"
   ]
  },
  {
   "cell_type": "code",
   "execution_count": 3,
   "metadata": {},
   "outputs": [],
   "source": [
    "care_dict = make_dict('care.csv')"
   ]
  },
  {
   "cell_type": "markdown",
   "metadata": {},
   "source": [
    "# 특정 키워드 게시물의 긍부정 점수 책정"
   ]
  },
  {
   "cell_type": "code",
   "execution_count": 4,
   "metadata": {},
   "outputs": [],
   "source": [
    "positive = ['증진', '허가', '합법', '추가', '확대', '지급'] # 추가 필요"
   ]
  },
  {
   "cell_type": "code",
   "execution_count": 5,
   "metadata": {},
   "outputs": [],
   "source": [
    "negative = ['금지', '규제', '철폐', '강화']"
   ]
  },
  {
   "cell_type": "code",
   "execution_count": 6,
   "metadata": {},
   "outputs": [],
   "source": [
    "tag_kkma = Kkma()"
   ]
  },
  {
   "cell_type": "code",
   "execution_count": 7,
   "metadata": {},
   "outputs": [],
   "source": [
    "def direction(dict, str):\n",
    "    \"Input (dict, str).\"\n",
    "    direct = {} # 비어있는 dict를 만든다.\n",
    "    direct[str] = 0 # 입력받은 str로 dict 생성\n",
    "    for title in dict: # dict의 title을 하나씩 대입\n",
    "        if str in title: # 입력받은 str이 title 안에 있을 경우\n",
    "            content_noun = tag_kkma.nouns(dict[title]) # title의 상대 content를 명사로 쪼개 content_noun에 리스트로 선언\n",
    "            for s in range(len(content_noun)-1):\n",
    "                bigram = []\n",
    "                bigram = [content_noun[s], content_noun[s+1]]\n",
    "                test = {}\n",
    "                test['score'] = 0\n",
    "                for wd in bigram:\n",
    "                    if wd in positive:\n",
    "                        test['score'] += 1\n",
    "                        print('P')\n",
    "                    elif wd in negative:\n",
    "                        test['score'] -= 2\n",
    "                        print('n')\n",
    "                print(bigram)\n",
    "                if test['score'] == 1: # 1p\n",
    "                    direct[str] += 0.5\n",
    "                elif test['score'] == -2: # 1n\n",
    "                    direct[str] -= 0.5\n",
    "                elif test['score'] == 2: # 2p\n",
    "                    direct[str] += 0\n",
    "                elif test['score'] == -4: # 2n\n",
    "                    direct[str] += 2\n",
    "                elif test['score'] == -1: # 1n1p\n",
    "                    direct[str] -= 1\n",
    "                else: #nothing\n",
    "                    pass\n",
    "    return direct"
   ]
  },
  {
   "cell_type": "code",
   "execution_count": 10,
   "metadata": {},
   "outputs": [],
   "source": [
    "test_dict = {'테스트를 위한 딕셔너리':'첫번째 테스트입니다. 규제를 확대한다는 문장은 -1점이 돼죠', '재미로 한번 더 돌려볼까요?' : 'A학점은 15%밖에 못 받아간다는 규제를 철폐하라! 라고 적었다면 1점이 되겠죠.'}"
   ]
  },
  {
   "cell_type": "code",
   "execution_count": 11,
   "metadata": {},
   "outputs": [
    {
     "name": "stdout",
     "output_type": "stream",
     "text": [
      "{'테스트를 위한 딕셔너리': '첫번째 테스트입니다. 규제를 확대한다는 문장은 -1점이 돼죠', '재미로 한번 더 돌려볼까요?': 'A학점은 15%밖에 못 받아간다는 규제를 철폐하라! 라고 적었다면 1점이 되겠죠.'}\n"
     ]
    }
   ],
   "source": [
    "print(test_dict)"
   ]
  },
  {
   "cell_type": "code",
   "execution_count": 12,
   "metadata": {},
   "outputs": [
    {
     "name": "stdout",
     "output_type": "stream",
     "text": [
      "['번째', '테스트']\n",
      "n\n",
      "['테스트', '규제']\n",
      "n\n",
      "P\n",
      "['규제', '확대']\n",
      "P\n",
      "['확대', '문장']\n",
      "['문장', '-1']\n",
      "['-1', '-1점']\n",
      "['-1점', '점']\n"
     ]
    },
    {
     "data": {
      "text/plain": [
       "{'테스트': -1.0}"
      ]
     },
     "execution_count": 12,
     "metadata": {},
     "output_type": "execute_result"
    }
   ],
   "source": [
    "direction(test_dict,'테스트')"
   ]
  },
  {
   "cell_type": "code",
   "execution_count": 13,
   "metadata": {},
   "outputs": [
    {
     "name": "stdout",
     "output_type": "stream",
     "text": [
      "['학점', '15']\n",
      "n\n",
      "['15', '규제']\n",
      "n\n",
      "n\n",
      "['규제', '철폐']\n",
      "n\n",
      "['철폐', '1']\n",
      "['1', '1점']\n",
      "['1점', '점']\n"
     ]
    },
    {
     "data": {
      "text/plain": [
       "{'재미': 1.0}"
      ]
     },
     "execution_count": 13,
     "metadata": {},
     "output_type": "execute_result"
    }
   ],
   "source": [
    "direction(test_dict,'재미')"
   ]
  },
  {
   "cell_type": "code",
   "execution_count": null,
   "metadata": {},
   "outputs": [],
   "source": []
  }
 ],
 "metadata": {
  "kernelspec": {
   "display_name": "Python 3",
   "language": "python",
   "name": "python3"
  },
  "language_info": {
   "codemirror_mode": {
    "name": "ipython",
    "version": 3
   },
   "file_extension": ".py",
   "mimetype": "text/x-python",
   "name": "python",
   "nbconvert_exporter": "python",
   "pygments_lexer": "ipython3",
   "version": "3.7.0"
  },
  "varInspector": {
   "cols": {
    "lenName": "20",
    "lenType": 16,
    "lenVar": 40
   },
   "kernels_config": {
    "python": {
     "delete_cmd_postfix": "",
     "delete_cmd_prefix": "del ",
     "library": "var_list.py",
     "varRefreshCmd": "print(var_dic_list())"
    },
    "r": {
     "delete_cmd_postfix": ") ",
     "delete_cmd_prefix": "rm(",
     "library": "var_list.r",
     "varRefreshCmd": "cat(var_dic_list()) "
    }
   },
   "position": {
    "height": "144px",
    "left": "1144px",
    "right": "20px",
    "top": "110px",
    "width": "350px"
   },
   "types_to_exclude": [
    "module",
    "function",
    "builtin_function_or_method",
    "instance",
    "_Feature"
   ],
   "window_display": true
  }
 },
 "nbformat": 4,
 "nbformat_minor": 2
}
